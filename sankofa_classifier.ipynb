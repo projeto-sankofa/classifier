{
  "nbformat": 4,
  "nbformat_minor": 0,
  "metadata": {
    "colab": {
      "provenance": [],
      "authorship_tag": "ABX9TyOT2J7zR340v75YJZlrU/L8",
      "include_colab_link": true
    },
    "kernelspec": {
      "name": "python3",
      "display_name": "Python 3"
    },
    "language_info": {
      "name": "python"
    }
  },
  "cells": [
    {
      "cell_type": "markdown",
      "metadata": {
        "id": "view-in-github",
        "colab_type": "text"
      },
      "source": [
        "<a href=\"https://colab.research.google.com/github/projeto-sankofa/classifier/blob/main/sankofa_classifier.ipynb\" target=\"_parent\"><img src=\"https://colab.research.google.com/assets/colab-badge.svg\" alt=\"Open In Colab\"/></a>"
      ]
    },
    {
      "cell_type": "markdown",
      "source": [
        "# Sankofa.AI Classifier Model\n",
        "---\n",
        "Este notebook contém o pipeline de carregamento, inferência e avaliação do modelo de classificação de discursos desenvolvido para o projeto **Sankofa.AI**.\n",
        "\n",
        "🎯 **Objetivo**:  \n",
        "Identificar, classificar e mensurar discursos de cunho racial presentes em dados coletados de redes sociais, com o intuito de apoiar diagnósticos e pesquisas em **segurança racial digital**.\n",
        "\n",
        "🔍 **Funcionalidades**:\n",
        "- Carregamento do modelo treinado com dados anotados;\n",
        "- Pré-processamento de textos (tokenização, limpeza, vetorização);\n",
        "- Classificação com retorno da confiança (confidence score);\n",
        "- Geração de métricas de desempenho (acurácia, matriz de confusão, F1-score);\n",
        "- Exportação dos resultados para visualização na plataforma Sankofa.AI.\n",
        "\n",
        "🧠 **Modelo**:  \n",
        "Utiliza técnicas de NLP e aprendizado supervisionado com foco em linguagem sensível ao contexto com o BERTimbau.\n",
        "\n",
        "📅 **Versão do modelo**: --  \n",
        "📈 **Acurácia média**: --  \n",
        "📁 **Data de treinamento**: --\n",
        "\n",
        "---\n"
      ],
      "metadata": {
        "id": "oOOPjqiWkEY_"
      }
    }
  ]
}